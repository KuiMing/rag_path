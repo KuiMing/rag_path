{
 "cells": [
  {
   "cell_type": "code",
   "execution_count": 9,
   "metadata": {},
   "outputs": [
    {
     "data": {
      "text/plain": [
       "True"
      ]
     },
     "execution_count": 9,
     "metadata": {},
     "output_type": "execute_result"
    }
   ],
   "source": [
    "\n",
    "from dotenv import find_dotenv, load_dotenv\n",
    "from pydantic import BaseModel\n",
    "from openai import OpenAI\n",
    "from IPython.display import display, Markdown\n",
    "from youtube_recipe import YoutubeLoader, parse_video_id\n",
    "load_dotenv(find_dotenv())"
   ]
  },
  {
   "cell_type": "code",
   "execution_count": 11,
   "metadata": {},
   "outputs": [],
   "source": [
    "\n",
    "class FormattedContent(BaseModel):\n",
    "    title: str\n",
    "    content: str\n",
    "\n",
    "def youtube_summary_openai(url: str) -> None:\n",
    "    yo = YoutubeLoader()\n",
    "    text = yo.load(url)\n",
    "    \n",
    "    client = OpenAI()\n",
    "\n",
    "\n",
    "    prompt = f\"\"\"\n",
    "    提取並整理輸入文本中的資訊，然後翻譯成台灣繁體中文。請勿捏造任何資訊。\n",
    "\n",
    "    請輸出：\n",
    "    1. 一個清晰、簡潔的台灣繁體中文標題  \n",
    "    2. 結構良好的 Markdown 台灣繁體中文內容，要求如下：  \n",
    "        - 使用適當的標題層級  \n",
    "        - 需要時使用清單或表格呈現  \n",
    "        - 保持原文的核心意義與重要細節\n",
    "    \"\"\"\n",
    "\n",
    "    content = f\"\"\"\n",
    "    Input text:\n",
    "    ```\n",
    "    {text}\n",
    "    ```\n",
    "    \"\"\"\n",
    "\n",
    "    completion = client.beta.chat.completions.parse(\n",
    "        model=\"gpt-4o-2024-08-06\",\n",
    "        messages=[\n",
    "            {\"role\": \"system\", \"content\": prompt},\n",
    "            {\"role\": \"user\", \"content\": content},\n",
    "        ],\n",
    "        response_format=FormattedContent,\n",
    "    )\n",
    "    return completion.choices[0].message.to_dict()['parsed']['content']\n",
    "\n",
    "    "
   ]
  },
  {
   "cell_type": "code",
   "execution_count": 12,
   "metadata": {},
   "outputs": [
    {
     "data": {
      "text/markdown": [
       "## 引言\n",
       "在這場由微軟AI平台副總裁Asha Sharma主持的全球AI研討會中，開發者與科學家共聚一堂，探討AI技術如何改變世界並引領創新。這次活動的目的是讓全球的開發者都能夠學習、建設並成長。\n",
       "\n",
       "## AI在開發中的角色與重要性\n",
       "- **開發者的核心地位**：AI正在重塑我們構建、創造和創新的方式，開發者是這一變革的核心。不管你是應用程式開發、優化工作流程，還是推動各種可能性，你都是未來的塑造者。\n",
       "- **AI技術的普及**：AI不僅限於研究人員和實驗室，任何開發者都可以使用和融合AI技術，這是人類潛能的倍增器。\n",
       "\n",
       "## 與會亮點\n",
       "### Scott Hanselman：AI開發的視角\n",
       "- **現況與認知**：AI不再是未來技術，而是現今進行中的變革。\n",
       "- **實用建議**：作為開發者，應尋找AI在代碼生成、開發與客戶體驗中能提供的價值。\n",
       "\n",
       "### Guido van Rossum：Python與AI的成長\n",
       "- **Python的影響力**：Python的簡潔與強大使AI對開發者而言更為易於接觸，成為許多AI突破的重要基石。\n",
       "\n",
       "### Jennifer Marsman：智慧型代理的崛起\n",
       "- **AI代理的介紹**：AI代理是一種可以接收指派工作並執行的軟體過程，現階段在多種場景中已經被廣泛應用。\n",
       "\n",
       "### Sarah Bird：負責任的AI開發\n",
       "- **重要性**：負責任的AI開發是當前AI生態系統中的一個關鍵元素。\n",
       "- **測試與監控**：確保系統安全可靠的關鍵是徹底的測試和不斷的監控。\n",
       "\n",
       "## 結論\n",
       "AI正透過人類和技術的協同作用，形成更智能的自動化與直觀的用戶體驗。同時，隨著AI系統愈發強大，我們必須確保其公平性、透明性與責任性。全球約85,000名成員參與的獨立組織，現時在100多個地點進行AI訓練營，目標是幫助更多開發者掌握、實現AI技術並共同創造美好未來。\n",
       "\n",
       "加強社群聯繫，成為這場全球AI運動的一部分，未來的AI突破就可能從中誕生，期待大家熱情參與，創造出偉大的成果！"
      ],
      "text/plain": [
       "<IPython.core.display.Markdown object>"
      ]
     },
     "metadata": {},
     "output_type": "display_data"
    }
   ],
   "source": [
    "url = \"https://www.youtube.com/watch?v=M6N-o2ONHRY\"\n",
    "output = youtube_summary_openai(url)\n",
    "display(Markdown(output))"
   ]
  },
  {
   "cell_type": "code",
   "execution_count": null,
   "metadata": {},
   "outputs": [],
   "source": []
  }
 ],
 "metadata": {
  "kernelspec": {
   "display_name": "Python 3",
   "language": "python",
   "name": "python3"
  },
  "language_info": {
   "codemirror_mode": {
    "name": "ipython",
    "version": 3
   },
   "file_extension": ".py",
   "mimetype": "text/x-python",
   "name": "python",
   "nbconvert_exporter": "python",
   "pygments_lexer": "ipython3",
   "version": "3.11.3"
  }
 },
 "nbformat": 4,
 "nbformat_minor": 2
}
